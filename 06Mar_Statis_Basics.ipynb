{
 "cells": [
  {
   "cell_type": "code",
   "execution_count": null,
   "id": "c66dbe39-3935-4a01-b70a-1b1a99d6894c",
   "metadata": {},
   "outputs": [],
   "source": [
    "Q1. What is Statistics?"
   ]
  },
  {
   "cell_type": "code",
   "execution_count": null,
   "id": "316cb8e8-2185-4efb-8733-7e8fd3b4c05a",
   "metadata": {},
   "outputs": [],
   "source": [
    "Ans:- Statistics is the science of collecting, organizing and analyzing data. Statistics\n",
    "involves the application of various methods, tools, and techniques to analyze and draw \n",
    "conclusions from data. "
   ]
  },
  {
   "cell_type": "code",
   "execution_count": null,
   "id": "a04d9813-fc7d-473b-b420-96e78c373c85",
   "metadata": {},
   "outputs": [],
   "source": []
  },
  {
   "cell_type": "code",
   "execution_count": null,
   "id": "18bbcf8e-8701-4ebe-97fb-0e50079479d9",
   "metadata": {},
   "outputs": [],
   "source": []
  },
  {
   "cell_type": "code",
   "execution_count": null,
   "id": "2bbe666e-3bb0-4e7a-910c-600f549da5ba",
   "metadata": {},
   "outputs": [],
   "source": [
    "Q2. Define the different types of statistics and give an example of when each type might be used."
   ]
  },
  {
   "cell_type": "code",
   "execution_count": null,
   "id": "e630996d-79df-4f17-900d-950beed850f6",
   "metadata": {},
   "outputs": [],
   "source": [
    "Ans:- There are two different types of statistics which are-\n",
    "     <I> Descriptive Statistics:- It consists of organizing, describing and summarizing data.\n",
    "    Suppose you are a researcher studying the heights of a sample of 100 people.You want to \n",
    "understand the central tendency and variability of the heights in your sample. You might use\n",
    "descriptive statistics to calculate measures such as the mean, median, mode, and standard \n",
    "deviation of the heights. These statistics can give you insights into the distribution of \n",
    "heights in your sample, such as whether they are normally distributed or skewed, and how \n",
    "much variation there is among the heights. This information can be used to draw conclusions\n",
    "about the population from which your sample was drawn, or to compare the heights of different\n",
    "groups of people.\n",
    "     <II> Inferential Statistics:- It consists of using data you have measured to form conclusion.\n",
    "     A researcher conducting a clinical trial could use inferential statistics to analyze data from\n",
    "a sample of participants and make conclusions about the effectiveness of a new drug for treating a \n",
    "particular condition in the larger population.\n"
   ]
  },
  {
   "cell_type": "code",
   "execution_count": null,
   "id": "f0408175-e8b8-4922-9622-20a347522f29",
   "metadata": {},
   "outputs": [],
   "source": []
  },
  {
   "cell_type": "code",
   "execution_count": null,
   "id": "ae3872ab-cae3-41ae-b81c-b6d28a194d09",
   "metadata": {},
   "outputs": [],
   "source": []
  },
  {
   "cell_type": "code",
   "execution_count": null,
   "id": "608cf83d-0799-4dba-85fd-d28efff98f3b",
   "metadata": {},
   "outputs": [],
   "source": [
    "Q3. What are the different types of data and how do they differ from each other? Provide an example \n",
    "of each type of data."
   ]
  },
  {
   "cell_type": "code",
   "execution_count": null,
   "id": "fa944958-ce89-4a0e-b37c-aa4634afd02f",
   "metadata": {},
   "outputs": [],
   "source": [
    "Ans:- There are two different types of data- \n",
    "    <I> Quantitative data:- Any types of numarical data they are called quantitative data. It further \n",
    "classified into two different categories, which are- (a) Discrete and (b) Continuous\n",
    "    <II> Qualitative data:- Any types of categorical data they are called qualitative data. It further \n",
    "classified into two different categories, which are- (a) Nominal (b) Ordinal\n",
    "     Difference between different types of data-\n",
    "    Discrete:- It consits of whole number and a specific range of number.\n",
    "    Example: No. of Childrens in a family\n",
    "    Continuous:- Any type of value including floating point also called continuous data.\n",
    "    Example: Temperature\n",
    "    Nominal: All types of categorical data without any ranking are called nominal data.\n",
    "    Example: Gender\n",
    "    Ordinal: All types of categorical data with ranking are called ordianl data\n"
   ]
  },
  {
   "cell_type": "code",
   "execution_count": null,
   "id": "b7abd4bb-e3b8-4470-baf7-c025aa11ca6e",
   "metadata": {},
   "outputs": [],
   "source": []
  },
  {
   "cell_type": "code",
   "execution_count": null,
   "id": "ebba3475-4595-4bbd-9e2c-85bccb5416d0",
   "metadata": {},
   "outputs": [],
   "source": []
  },
  {
   "cell_type": "code",
   "execution_count": null,
   "id": "bc98271f-9687-4f48-92c5-b70139632e93",
   "metadata": {},
   "outputs": [],
   "source": [
    "Q4. Categorise the following datasets with respect to quantitative and qualitative data types:\n",
    "(i) Grading in exam: A+, A, B+, B, C+, C, D, E\n",
    "(ii) Colour of mangoes: yellow, green, orange, red\n",
    "(iii) Height data of a class: [178.9, 179, 179.5, 176, 177.2, 178.3, 175.8,...]\n",
    "(iv) Number of mangoes exported by a farm: [500, 600, 478, 672, ...]"
   ]
  },
  {
   "cell_type": "code",
   "execution_count": null,
   "id": "9aa25af2-ea18-4a10-a62a-fd94c313814a",
   "metadata": {},
   "outputs": [],
   "source": [
    "Ans:-(i) Grading in exam: Qualitative data (ordinal)\n",
    "(ii) Colour of mangoes: Qualitative data (nominal)\n",
    "(iii) Height data of a class: Quantitative data (continuous)\n",
    "(iv) Number of mangoes exported by a farm: Quantitative data (discrete)\n"
   ]
  },
  {
   "cell_type": "code",
   "execution_count": null,
   "id": "9a460dfa-5f72-4900-8c93-cf42e0ecb91d",
   "metadata": {},
   "outputs": [],
   "source": []
  },
  {
   "cell_type": "code",
   "execution_count": null,
   "id": "ef296aa6-7d43-4f80-a17b-4453cfcfc466",
   "metadata": {},
   "outputs": [],
   "source": []
  },
  {
   "cell_type": "code",
   "execution_count": null,
   "id": "e5c4e819-51cc-48f5-8b34-7fab11d640e2",
   "metadata": {},
   "outputs": [],
   "source": [
    "Q5. Explain the concept of levels of measurement and give an example of a variable for each level."
   ]
  },
  {
   "cell_type": "code",
   "execution_count": null,
   "id": "1470317b-69b9-482f-80ae-ade79d87566e",
   "metadata": {},
   "outputs": [],
   "source": [
    "Ans:- Levels of measurement refer to the different ways in which variables can be measured or \n",
    "categorized. There are four levels of measurement: nominal, ordinal, interval, and ratio. Each \n",
    "level represents a different type of data, with different properties and appropriate statistical\n",
    "analysis.\n",
    "    <i> Nominal level of measurement: Nominal variables are categorical, and there is no inherent\n",
    "order or ranking among the categories. Nominal variables are measured using categories or labels,\n",
    "and the data cannot be ranked or ordered. An example of a nominal variable is a person's eye color,\n",
    "where the categories could be brown, blue, green, etc.\n",
    "    <ii>Ordinal level of measurement: Ordinal variables are also categorical, but the categories \n",
    "can be ordered or ranked. The order of the categories is important, but the differences between \n",
    "categories are not necessarily equal or meaningful. An example of an ordinal variable is a person's\n",
    "education level, where the categories could be \"high school graduate,\" \"some college,\" \"college \n",
    "graduate,\" and \"postgraduate degree.\"\n",
    "    <iii> Interval level of measurement: Interval variables are numerical, and the intervals \n",
    "between values are equal and meaningful, but there is no true zero point. An example of an \n",
    "interval variable is temperature measured in Celsius or Fahrenheit, where zero does not represent\n",
    "the complete absence of temperature.\n",
    "    Ratio level of measurement: Ratio variables are also numerical, and the intervals between values\n",
    "are equal and meaningful, but there is a true zero point that represents the complete absence of the\n",
    "attribute being measured. An example of a ratio variable is height or weight, where zero represents \n",
    "the complete absence of height or weight."
   ]
  },
  {
   "cell_type": "code",
   "execution_count": null,
   "id": "0e0ebda4-f5e1-4bb1-a5a8-3c515456115e",
   "metadata": {},
   "outputs": [],
   "source": []
  },
  {
   "cell_type": "code",
   "execution_count": null,
   "id": "a256a72b-17fc-46ba-a829-35e1b23ce911",
   "metadata": {},
   "outputs": [],
   "source": []
  },
  {
   "cell_type": "code",
   "execution_count": null,
   "id": "3a9e7f2a-da15-4cea-ae1f-dea1d7716cff",
   "metadata": {},
   "outputs": [],
   "source": [
    "Q6. Why is it important to understand the level of measurement when analyzing data? Provide an\n",
    "example to illustrate your answer."
   ]
  },
  {
   "cell_type": "code",
   "execution_count": null,
   "id": "53260682-a5a6-43c0-9570-03d8d6ba49ab",
   "metadata": {},
   "outputs": [],
   "source": [
    "Ans:- It is important to understand the level of measurement when analyzing data because it \n",
    "determines the type of statistical analysis that can be performed and the types of conclusions\n",
    "that can be drawn from the data. Different statistical tests are appropriate for different levels\n",
    "of measurement, and using the wrong test can lead to inaccurate or misleading results.\n",
    "\n",
    "      For example, if we have data on the age of participants in a study, we need to understand\n",
    "whether this variable is measured on an interval or ratio scale. If it is measured on an interval\n",
    "scale, we cannot make meaningful statements about ratios, such as saying that one age is twice as\n",
    "old as another. However, if the variable is measured on a ratio scale, we can make meaningful \n",
    "statements about ratios, such as saying that one person's age is twice as old as another's. Using \n",
    "the wrong scale of measurement could lead to incorrect conclusions or inappropriate statistical tests."
   ]
  },
  {
   "cell_type": "code",
   "execution_count": null,
   "id": "91f1a65e-2e92-476b-88ff-8b88d19d6c39",
   "metadata": {},
   "outputs": [],
   "source": []
  },
  {
   "cell_type": "code",
   "execution_count": null,
   "id": "0e0a38a3-5449-4afc-90b0-552699c26666",
   "metadata": {},
   "outputs": [],
   "source": []
  },
  {
   "cell_type": "code",
   "execution_count": null,
   "id": "e8c7494f-fe8c-49c4-bf4b-7fc31f9a18eb",
   "metadata": {},
   "outputs": [],
   "source": [
    "Q7. How nominal data type is different from ordinal data type."
   ]
  },
  {
   "cell_type": "code",
   "execution_count": null,
   "id": "7ef44975-1420-4401-aa25-18ec0db877ff",
   "metadata": {},
   "outputs": [],
   "source": [
    "Ans:- Nominal data refers to data that can be categorized into two or more categories, but there \n",
    "is no inherent order or ranking among the categories. Examples of nominal data include gender, \n",
    "hair color, or political affiliation. In nominal data, categories are mutually exclusive and \n",
    "cannot be ranked.\n",
    "      Ordinal data, on the other hand, is similar to nominal data in that it can be categorized \n",
    "into two or more categories. However, the categories can be ordered or ranked in a meaningful way.\n",
    "Examples of ordinal data include letter grades (A, B, C, etc.), military ranks and level of education\n",
    "(high school, college, graduate school, etc.). In ordinal data, the categories are ordered, but the\n",
    "differences between them may not be equal."
   ]
  },
  {
   "cell_type": "code",
   "execution_count": null,
   "id": "f5059ca2-03e7-404d-9103-4d1c0a1c6def",
   "metadata": {},
   "outputs": [],
   "source": []
  },
  {
   "cell_type": "code",
   "execution_count": null,
   "id": "3afa4268-b6e2-4fa6-adc2-44b892c12ffc",
   "metadata": {},
   "outputs": [],
   "source": []
  },
  {
   "cell_type": "code",
   "execution_count": null,
   "id": "3a9199d9-08c7-4ddb-970a-b6418e50a592",
   "metadata": {},
   "outputs": [],
   "source": [
    "Q8. Which type of plot can be used to display data in terms of range?"
   ]
  },
  {
   "cell_type": "code",
   "execution_count": null,
   "id": "cd832b9a-ce53-451f-aa32-fb40abf80de8",
   "metadata": {},
   "outputs": [],
   "source": [
    "Ans:- A box plot can be used to display data in terms of range. A box plot, also known as a box-and\n",
    "-whisker plot, is a graphical representation of a dataset that displays the distribution of the data\n",
    "and highlights important features such as the median, quartiles, and range."
   ]
  },
  {
   "cell_type": "code",
   "execution_count": null,
   "id": "7b6bed20-b672-4881-b9bb-c6a8efb4ef76",
   "metadata": {},
   "outputs": [],
   "source": []
  },
  {
   "cell_type": "code",
   "execution_count": null,
   "id": "b0287966-24f7-44c3-81b4-f7a760165c16",
   "metadata": {},
   "outputs": [],
   "source": []
  },
  {
   "cell_type": "code",
   "execution_count": null,
   "id": "d698c326-15f8-4437-98ce-3093a5c000f4",
   "metadata": {},
   "outputs": [],
   "source": [
    "Q9. Describe the difference between descriptive and inferential statistics. Give an example of each\n",
    "type of statistics and explain how they are used."
   ]
  },
  {
   "cell_type": "code",
   "execution_count": null,
   "id": "4354d646-beaf-419a-9d61-3214f471be6c",
   "metadata": {},
   "outputs": [],
   "source": [
    "Ans:- Descriptive statistics are used to summarize and describe the characteristics of a dataset. \n",
    "They can be used to calculate measures such as the mean, median, mode, range, standard deviation, \n",
    "and frequency distribution. Descriptive statistics are useful for providing a snapshot of the data \n",
    "and gaining insights into its properties, but they do not allow us to make inferences about the larger\n",
    "population from which the sample was drawn.\n",
    " For example, if we conduct a survey to measure the height of people in a certain area, we can use\n",
    "descriptive statistics to calculate the average height, the range of heights, and the frequency \n",
    "distribution of heights in the sample.\n",
    "      Inferential statistics, on the other hand, are used to make inferences about a larger population\n",
    "based on data collected from a sample. Inferential statistics allow us to generalize from a sample to a\n",
    "population and to test hypotheses about the population based on the sample data.\n",
    " For example, if we want to test the hypothesis that the average height of people in a certain area is \n",
    "greater than 6 feet, we can use inferential statistics to conduct a hypothesis test and determine whether\n",
    "the sample data provides sufficient evidence to support the hypothesis."
   ]
  },
  {
   "cell_type": "code",
   "execution_count": null,
   "id": "681139d7-5e91-4d00-b553-75c3c5152438",
   "metadata": {},
   "outputs": [],
   "source": []
  },
  {
   "cell_type": "code",
   "execution_count": null,
   "id": "7bb07779-5cf2-4577-b4d8-f77f91047f19",
   "metadata": {},
   "outputs": [],
   "source": []
  },
  {
   "cell_type": "code",
   "execution_count": null,
   "id": "bbb85c72-b1e8-4115-8621-b0b3c86ed2e9",
   "metadata": {},
   "outputs": [],
   "source": [
    "Q10. What are some common measures of central tendency and variability used in statistics? Explain\n",
    "how each measure can be used to describe a dataset."
   ]
  },
  {
   "cell_type": "code",
   "execution_count": null,
   "id": "c19e48d8-7775-4449-9983-5696d299b969",
   "metadata": {},
   "outputs": [],
   "source": [
    "Ans:- Measures of central tendency and variability are used in statistics to describe and summarize\n",
    "the characteristics of a dataset. Here are some common measures of central tendency and variability:\n",
    "    Mean: The mean is the most common measure of central tendency and is calculated by summing up all\n",
    "the values in a dataset and dividing by the total number of values. The mean provides a measure of the\n",
    "\"average\" value in the dataset.\n",
    "    Median: The median is the value that separates the upper 50% from the lower 50% of a dataset. It \n",
    "is less affected by extreme values than the mean and provides a measure of the \"middle\" value in the \n",
    "dataset.\n",
    "    Mode: The mode is the value that occurs most frequently in a dataset. It is useful for describing\n",
    "the most common value or category in a dataset.\n",
    "    Range: The range is the difference between the maximum and minimum values in a dataset. It provides\n",
    "a measure of the spread or variability of the data.\n",
    "    Variance: The variance is a measure of how spread out the data is around the mean. It is calculated\n",
    "by subtracting each data point from the mean, squaring the differences, adding them up, and dividing by\n",
    "the total number of values.\n",
    "    Standard deviation: The standard deviation is the square root of the variance and provides a measure\n",
    "of how much the data is dispersed around the mean. A larger standard deviation indicates more variability\n",
    "in the data.\n",
    "      These measures can be used in combination to provide a more complete description of a dataset. For\n",
    "example,the mean, median, and mode can be used to describe the central tendency of a dataset, while the \n",
    "range, variance, and standard deviation can be used to describe its variability. By using these measures,\n",
    "statisticians can gain insights into the characteristics of the data and make informed decisions based on\n",
    "their analysis.\n",
    "\n"
   ]
  },
  {
   "cell_type": "code",
   "execution_count": null,
   "id": "002e11af-2965-4e38-a2ff-8801264df5fb",
   "metadata": {},
   "outputs": [],
   "source": []
  }
 ],
 "metadata": {
  "kernelspec": {
   "display_name": "Python 3 (ipykernel)",
   "language": "python",
   "name": "python3"
  },
  "language_info": {
   "codemirror_mode": {
    "name": "ipython",
    "version": 3
   },
   "file_extension": ".py",
   "mimetype": "text/x-python",
   "name": "python",
   "nbconvert_exporter": "python",
   "pygments_lexer": "ipython3",
   "version": "3.10.8"
  }
 },
 "nbformat": 4,
 "nbformat_minor": 5
}
